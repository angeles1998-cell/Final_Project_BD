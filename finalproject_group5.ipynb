{
  "nbformat": 4,
  "nbformat_minor": 0,
  "metadata": {
    "colab": {
      "provenance": [],
      "include_colab_link": true
    },
    "kernelspec": {
      "name": "python3",
      "display_name": "Python 3"
    },
    "language_info": {
      "name": "python"
    }
  },
  "cells": [
    {
      "cell_type": "markdown",
      "metadata": {
        "id": "view-in-github",
        "colab_type": "text"
      },
      "source": [
        "<a href=\"https://colab.research.google.com/github/angeles1998-cell/Final_Project_BD/blob/main/finalproject_group5.ipynb\" target=\"_parent\"><img src=\"https://colab.research.google.com/assets/colab-badge.svg\" alt=\"Open In Colab\"/></a>"
      ]
    },
    {
      "cell_type": "code",
      "execution_count": 1,
      "metadata": {
        "id": "QojqcSQBU-j6"
      },
      "outputs": [],
      "source": [
        "from pyspark.sql import SparkSession\n",
        "from pyspark.sql.types import StructType, StructField, StringType, IntegerType, DoubleType, DateType\n",
        "from pyspark.sql.functions import count, col, sum, round\n",
        "import numpy as np\n",
        "import pandas as pd\n",
        "import matplotlib.pyplot as plt"
      ]
    },
    {
      "cell_type": "code",
      "source": [
        "# Creating a new session in Spark. This is an entry point to your application.\n",
        "\n",
        "sc = SparkSession.Builder().appName(\"Final project\").getOrCreate()"
      ],
      "metadata": {
        "id": "G92gszQOVg_o"
      },
      "execution_count": 2,
      "outputs": []
    },
    {
      "cell_type": "code",
      "source": [
        "#Creating dataFrame and Join\n",
        "df2 = sc.read.csv(\"/content/sample_data/job_skills.csv\", header=True, inferSchema=True)\n",
        "df=sc.read.csv(\"/content/sample_data/linkedin_job_postings.csv\", header=True, inferSchema=True)\n"
      ],
      "metadata": {
        "id": "pusLK01BbBoT"
      },
      "execution_count": 3,
      "outputs": []
    },
    {
      "cell_type": "code",
      "source": [
        "df.count()"
      ],
      "metadata": {
        "colab": {
          "base_uri": "https://localhost:8080/"
        },
        "id": "pOXHiw_kbVet",
        "outputId": "830bff9e-b1c3-441d-e199-c7754b00020a"
      },
      "execution_count": 4,
      "outputs": [
        {
          "output_type": "execute_result",
          "data": {
            "text/plain": [
              "1348488"
            ]
          },
          "metadata": {},
          "execution_count": 4
        }
      ]
    },
    {
      "cell_type": "code",
      "source": [
        "len(df.columns) #  number of columns in the DataFrame"
      ],
      "metadata": {
        "id": "ACLFZ-D0Vnrs",
        "colab": {
          "base_uri": "https://localhost:8080/"
        },
        "outputId": "c0e40d19-7114-41f6-eeed-bd4c72a7adca"
      },
      "execution_count": 6,
      "outputs": [
        {
          "output_type": "execute_result",
          "data": {
            "text/plain": [
              "14"
            ]
          },
          "metadata": {},
          "execution_count": 6
        }
      ]
    },
    {
      "cell_type": "code",
      "source": [
        "df.count() # number of rows in the DataFrame"
      ],
      "metadata": {
        "id": "-8w0hYZOkkPT",
        "colab": {
          "base_uri": "https://localhost:8080/"
        },
        "outputId": "d633c437-0227-4206-a83a-c9000ace9729"
      },
      "execution_count": 7,
      "outputs": [
        {
          "output_type": "execute_result",
          "data": {
            "text/plain": [
              "1348488"
            ]
          },
          "metadata": {},
          "execution_count": 7
        }
      ]
    },
    {
      "cell_type": "code",
      "source": [
        "#Verify the schema of Spark DataFrame\n",
        "df.printSchema()"
      ],
      "metadata": {
        "id": "mXbzeX2Kdq8B",
        "colab": {
          "base_uri": "https://localhost:8080/"
        },
        "outputId": "5cdb3f8e-c85a-47b8-86ee-88c4ff09dd9d"
      },
      "execution_count": 5,
      "outputs": [
        {
          "output_type": "stream",
          "name": "stdout",
          "text": [
            "root\n",
            " |-- job_link: string (nullable = true)\n",
            " |-- last_processed_time: string (nullable = true)\n",
            " |-- got_summary: string (nullable = true)\n",
            " |-- got_ner: string (nullable = true)\n",
            " |-- is_being_worked: string (nullable = true)\n",
            " |-- job_title: string (nullable = true)\n",
            " |-- company: string (nullable = true)\n",
            " |-- job_location: string (nullable = true)\n",
            " |-- first_seen: string (nullable = true)\n",
            " |-- search_city: string (nullable = true)\n",
            " |-- search_country: string (nullable = true)\n",
            " |-- search_position: string (nullable = true)\n",
            " |-- job_level: string (nullable = true)\n",
            " |-- job_type: string (nullable = true)\n",
            "\n"
          ]
        }
      ]
    },
    {
      "cell_type": "code",
      "source": [
        "#Summary statistics\n",
        "df.describe().show()"
      ],
      "metadata": {
        "id": "F6Q9bG7geHrC",
        "colab": {
          "base_uri": "https://localhost:8080/"
        },
        "outputId": "fcc9e841-6804-4d74-9444-fce8e7b40ecf"
      },
      "execution_count": 24,
      "outputs": [
        {
          "output_type": "stream",
          "name": "stdout",
          "text": [
            "+-------+--------------------+--------------------+--------------------+----------+---------------+--------------------+-----------------+--------------------+-------------+-----------+--------------+----------------+--------------------+---------+\n",
            "|summary|            job_link| last_processed_time|         got_summary|   got_ner|is_being_worked|           job_title|          company|        job_location|   first_seen|search_city|search_country| search_position|           job_level| job_type|\n",
            "+-------+--------------------+--------------------+--------------------+----------+---------------+--------------------+-----------------+--------------------+-------------+-----------+--------------+----------------+--------------------+---------+\n",
            "|  count|             1348488|             1348488|             1348488|   1348488|        1348488|             1348488|          1348443|             1348435|      1348454|    1348420|       1348420|         1348420|             1348420|  1348419|\n",
            "|   mean|                NULL|                NULL|                NULL|      NULL|           NULL|                NULL|882.4166666666666|                NULL|         NULL|       NULL|          NULL|            NULL|                NULL|     NULL|\n",
            "| stddev|                NULL|                NULL|                NULL|      NULL|           NULL|                NULL|893.7739655612886|                NULL|         NULL|       NULL|          NULL|            NULL|                NULL|     NULL|\n",
            "|    min|\\t\\t\\t\\t\\t\\t\\t\\t\\...|2024-01-19 09:45:...|Bicester, England...|2024-01-12|       Basildon|\"\"\"A\"\" Softball C...|              $16|            Inc.\"\")\"|   2024-01-12| 2024-01-12|    2024-01-13|     Able Seaman|Administrative As...|Associate|\n",
            "|    max|https://za.linked...|  State of Wisconsin|                   t|         t|              t|🔥Nurse Manager, ...|  🚀 Creator Camp|Örebro, Orebro Co...|Uniontown, OH|       Zion| United States|Zoo Veterinarian|       United States|   Remote|\n",
            "+-------+--------------------+--------------------+--------------------+----------+---------------+--------------------+-----------------+--------------------+-------------+-----------+--------------+----------------+--------------------+---------+\n",
            "\n"
          ]
        }
      ]
    },
    {
      "cell_type": "code",
      "source": [
        "df = df.join(df2, 'job_link', 'left')\n",
        "df.show()"
      ],
      "metadata": {
        "colab": {
          "base_uri": "https://localhost:8080/"
        },
        "id": "ovZF_FmiWmlk",
        "outputId": "3862e3cc-a7b3-430f-9065-11061b3fbb28"
      },
      "execution_count": 10,
      "outputs": [
        {
          "output_type": "stream",
          "name": "stdout",
          "text": [
            "+--------------------+--------------------+-----------+-------+---------------+--------------------+--------------------+--------------------+----------+---------------+--------------+--------------------+----------+--------+--------------------+--------------------+\n",
            "|            job_link| last_processed_time|got_summary|got_ner|is_being_worked|           job_title|             company|        job_location|first_seen|    search_city|search_country|     search_position| job_level|job_type|          job_skills|          job_skills|\n",
            "+--------------------+--------------------+-----------+-------+---------------+--------------------+--------------------+--------------------+----------+---------------+--------------+--------------------+----------+--------+--------------------+--------------------+\n",
            "|https://au.linked...|2024-01-21 02:01:...|          t|      t|              f|Supervisor - Hort...|Green Options Lan...|Sydney, New South...|2024-01-15|New South Wales|     Australia|  Booking Supervisor|Mid senior|  Onsite|Horticulture, Man...|Horticulture, Man...|\n",
            "|https://ca.linked...|2024-01-20 12:23:...|          t|      t|              f|Leadership Mentor...|        ClickJobs.io|Vernon, British C...|2024-01-14|         Vernon|        Canada|  Director Education|Mid senior|  Onsite|Leadership, Clini...|Leadership, Clini...|\n",
            "|https://www.linke...|2024-01-19 14:57:...|          t|      t|              f|Part Time Registe...|     Health eCareers|      Pittsburgh, PA|2024-01-14|      Aliquippa| United States|   Nurse Anesthetist|Mid senior|  Onsite|Nursing, Register...|Nursing, Register...|\n",
            "|https://www.linke...|2024-01-20 08:01:...|          t|      t|              f|     Project Manager|                 JLL|        Richmond, VA|2024-01-14|       Virginia| United States|    Supervisor Files| Associate|  Onsite|Project Managemen...|Project Managemen...|\n",
            "|https://ca.linked...|2024-01-19 09:45:...|          t|      t|              f|Account Executive...|    Scispot (YC S21)|Kitchener, Ontari...|2024-01-12|      Brantford|        Canada|   Account Executive|Mid senior|  Hybrid|Sales, Negotiatio...|Sales, Negotiatio...|\n",
            "|https://www.linke...|2024-01-19 14:57:...|          t|      t|              f|Distinguished Eng...|   Jobs for Humanity|           Plano, TX|2024-01-16|        Garland| United States|Electro-Optical E...|Mid senior|  Onsite|AI, ML, Generativ...|AI, ML, Generativ...|\n",
            "|https://www.linke...|2024-01-20 12:23:...|          t|      t|              f|First Year Tax Pr...|           H&R Block|        Edinboro, PA|2024-01-14|      Greenwood| United States|          Accountant|Mid senior|  Onsite|Communication, Ta...|Communication, Ta...|\n",
            "|https://www.linke...|2024-01-21 02:01:...|          t|      t|              f|Human Resources G...|           SIG Group|          Merced, CA|2024-01-14|         Merced| United States|    Manager Benefits|Mid senior|  Onsite|Employee relation...|Employee relation...|\n",
            "|https://www.linke...|2024-01-21 02:01:...|          t|      t|              f|Senior Associate,...|             KPMG US|         Chicago, IL|2024-01-14|   Calumet City| United States|            Stand-In| Associate|  Onsite|Microsoft Office ...|Microsoft Office ...|\n",
            "|https://ca.linked...|2024-01-21 07:27:...|          t|      t|              f|2200004522 - Labo...|    Lakeridge Health|Port Perry, Ontar...|2024-01-14|         Oshawa|        Canada|Medical Technologist|Mid senior|  Onsite|Medical Laborator...|Medical Laborator...|\n",
            "|https://www.linke...|2024-01-19 09:45:...|          t|      t|              f|Business Developm...|    COACT Associates|          Toledo, OH|2024-01-12|         Monroe| United States|   Account Executive|Mid senior|  Onsite|Business developm...|Business developm...|\n",
            "|https://www.linke...|2024-01-21 08:08:...|          t|      t|              f|LEAD SALES ASSOCI...|      Dollar General|          Tipton, IN|2024-01-14|         Carmel| United States|Circulation-Sales...|Mid senior|  Onsite|Cashier, Stocker,...|Cashier, Stocker,...|\n",
            "|https://www.linke...|2024-01-20 12:23:...|          t|      t|              f|Nurse Practitione...|         HonorHealth|        Glendale, AZ|2024-01-14|         Peoria| United States|  Nurse Practitioner|Mid senior|  Onsite|Nurse Practitione...|Nurse Practitione...|\n",
            "|https://www.linke...|2024-01-21 06:34:...|          t|      t|              f|Radiology Technol...|  TriCities Hospital|        Hopewell, VA|2024-01-13|       Virginia| United States|         Radiologist|Mid senior|  Onsite|Radiology, Radiol...|Radiology, Radiol...|\n",
            "|https://www.linke...|2024-01-19 14:57:...|          t|      t|              f|Registered Nurse ...|     Health eCareers|     Schenectady, NY|2024-01-14|      Rotterdam| United States|         Pathologist|Mid senior|  Onsite|Nursing, Patient ...|Nursing, Patient ...|\n",
            "|https://www.linke...|2024-01-20 08:27:...|          t|      t|              f|Registered Nurse ...|  RWJBarnabas Health|     Jersey City, NJ|2024-01-14|     New Jersey| United States|        Nurse School|Mid senior|  Onsite|Nursing, Behavior...|Nursing, Behavior...|\n",
            "|https://www.linke...|2024-01-21 08:08:...|          t|      t|              f|Special Agent: La...|Federal Bureau of...|Austin, Texas Met...|2024-01-16|         Austin| United States|       Special Agent| Associate|  Onsite|FBI Special Agent...|FBI Special Agent...|\n",
            "|https://www.linke...|2024-01-20 08:27:...|          t|      t|              f|Support Analyst -...|           Costco IT|         Chicago, IL|2024-01-14|   Calumet City| United States|Quality Assurance...|Mid senior|  Onsite|SAP Commerce, Hyb...|SAP Commerce, Hyb...|\n",
            "|https://www.linke...|2024-01-21 07:47:...|          t|      t|              f|   Technical Trainer|              Kaseya|         Orlando, FL|2024-01-14|       Avondale| United States|Technical Trainin...|Mid senior|  Onsite|Technical Trainin...|Technical Trainin...|\n",
            "|https://www.linke...|2024-01-20 08:01:...|          t|      t|              f|25B Information T...| Army National Guard|     Fort Ripley, MN|2024-01-14|       Brainerd| United States| Computer Programmer|Mid senior|  Onsite|Network administr...|Network administr...|\n",
            "+--------------------+--------------------+-----------+-------+---------------+--------------------+--------------------+--------------------+----------+---------------+--------------+--------------------+----------+--------+--------------------+--------------------+\n",
            "only showing top 20 rows\n",
            "\n"
          ]
        }
      ]
    },
    {
      "cell_type": "code",
      "source": [
        "b= df.select(\"job_level\").agg(count(\"job_level\")).alias(\"Frecuency\").groupBy(\"job_level\")"
      ],
      "metadata": {
        "id": "QZNgOGPEQiQN"
      },
      "execution_count": 38,
      "outputs": []
    },
    {
      "cell_type": "code",
      "source": [],
      "metadata": {
        "colab": {
          "base_uri": "https://localhost:8080/",
          "height": 141
        },
        "id": "nrdTXobKZltv",
        "outputId": "fbc32a43-8736-49b4-bc15-c0fd10aa58b7"
      },
      "execution_count": 39,
      "outputs": [
        {
          "output_type": "error",
          "ename": "AttributeError",
          "evalue": "'GroupedData' object has no attribute 'show'",
          "traceback": [
            "\u001b[0;31m---------------------------------------------------------------------------\u001b[0m",
            "\u001b[0;31mAttributeError\u001b[0m                            Traceback (most recent call last)",
            "\u001b[0;32m<ipython-input-39-26de774dd282>\u001b[0m in \u001b[0;36m<cell line: 0>\u001b[0;34m()\u001b[0m\n\u001b[0;32m----> 1\u001b[0;31m \u001b[0mb\u001b[0m\u001b[0;34m.\u001b[0m\u001b[0mshow\u001b[0m\u001b[0;34m(\u001b[0m\u001b[0;34m)\u001b[0m\u001b[0;34m\u001b[0m\u001b[0;34m\u001b[0m\u001b[0m\n\u001b[0m",
            "\u001b[0;31mAttributeError\u001b[0m: 'GroupedData' object has no attribute 'show'"
          ]
        }
      ]
    },
    {
      "cell_type": "code",
      "source": [
        "#Check unique values in each column (try with each column)\n",
        "df.select(\"job_level\").distinct().show()"
      ],
      "metadata": {
        "id": "vxl7edvxeTRm",
        "colab": {
          "base_uri": "https://localhost:8080/"
        },
        "outputId": "775309be-ce0a-4a2a-8063-d39c6a22d3b8"
      },
      "execution_count": 25,
      "outputs": [
        {
          "output_type": "stream",
          "name": "stdout",
          "text": [
            "+--------------------+\n",
            "|           job_level|\n",
            "+--------------------+\n",
            "|              Onsite|\n",
            "|           Associate|\n",
            "|Chief Computer Pr...|\n",
            "|          Mid senior|\n",
            "|Job Development S...|\n",
            "|           Inspector|\n",
            "|              Canada|\n",
            "|           Assembler|\n",
            "|   Medical Physicist|\n",
            "|              Lawyer|\n",
            "|      Budget Analyst|\n",
            "|        Order Runner|\n",
            "|           Architect|\n",
            "|     Nurse Assistant|\n",
            "|Nurse Infection C...|\n",
            "|      Microbiologist|\n",
            "|      Model Artists'|\n",
            "|     Color Developer|\n",
            "|Administrative As...|\n",
            "| Magazine Supervisor|\n",
            "+--------------------+\n",
            "only showing top 20 rows\n",
            "\n"
          ]
        }
      ]
    },
    {
      "cell_type": "code",
      "source": [],
      "metadata": {
        "id": "vly3rIbwbP_V"
      },
      "execution_count": null,
      "outputs": []
    },
    {
      "cell_type": "code",
      "source": [
        "#Check if we have any duplicate value\n",
        "df.dropDuplicates().show()"
      ],
      "metadata": {
        "id": "Q-9DhkfRevh-"
      },
      "execution_count": null,
      "outputs": []
    },
    {
      "cell_type": "code",
      "source": [
        "b= df.groupBy('job_level').agg(count('job_level').alias('Frecuency')). show(30)"
      ],
      "metadata": {
        "id": "YxKZ_-p1e-SQ",
        "colab": {
          "base_uri": "https://localhost:8080/"
        },
        "outputId": "2d4c8c35-6895-42b7-f361-5175dccf55ed"
      },
      "execution_count": 29,
      "outputs": [
        {
          "output_type": "stream",
          "name": "stdout",
          "text": [
            "+--------------------+---------+\n",
            "|           job_level|Frecuency|\n",
            "+--------------------+---------+\n",
            "|              Onsite|        1|\n",
            "|                NULL|        0|\n",
            "|           Associate|   143997|\n",
            "|Chief Computer Pr...|        1|\n",
            "|          Mid senior|  1204393|\n",
            "|Job Development S...|        1|\n",
            "|           Inspector|        1|\n",
            "|              Canada|        1|\n",
            "|           Assembler|        1|\n",
            "|   Medical Physicist|        1|\n",
            "|              Lawyer|        1|\n",
            "|      Budget Analyst|        1|\n",
            "|        Order Runner|        1|\n",
            "|           Architect|        1|\n",
            "|     Nurse Assistant|        1|\n",
            "|Nurse Infection C...|        1|\n",
            "|      Microbiologist|        1|\n",
            "|      Model Artists'|        1|\n",
            "|     Color Developer|        1|\n",
            "|Administrative As...|       10|\n",
            "| Magazine Supervisor|        1|\n",
            "|       United States|        1|\n",
            "|  Investment Analyst|        1|\n",
            "|Documentation Sup...|        1|\n",
            "+--------------------+---------+\n",
            "\n"
          ]
        }
      ]
    },
    {
      "cell_type": "code",
      "source": [
        "spark = SparkSession.builder.appName(\"Job_Spark\").getOrCreate()"
      ],
      "metadata": {
        "id": "4AS9CmvAa02i"
      },
      "execution_count": 32,
      "outputs": []
    },
    {
      "cell_type": "code",
      "source": [
        "df2 = spark.read.csv(\"/content/sample_data/job_skills.csv\", header=True, inferSchema=True)\n",
        "df=spark.read.csv(\"/content/sample_data/linkedin_job_postings.csv\", header=True, inferSchema=True)\n",
        "df = df.join(df2, 'job_link', 'left')"
      ],
      "metadata": {
        "id": "x7_PUwKibIXZ"
      },
      "execution_count": 33,
      "outputs": []
    },
    {
      "cell_type": "code",
      "source": [
        "df.printSchema()"
      ],
      "metadata": {
        "colab": {
          "base_uri": "https://localhost:8080/"
        },
        "id": "ZO6rflTAdKtZ",
        "outputId": "0d115d25-06ac-4127-8e5c-985d0fa10fea"
      },
      "execution_count": 39,
      "outputs": [
        {
          "output_type": "stream",
          "name": "stdout",
          "text": [
            "root\n",
            " |-- job_link: string (nullable = true)\n",
            " |-- last_processed_time: string (nullable = true)\n",
            " |-- got_summary: string (nullable = true)\n",
            " |-- got_ner: string (nullable = true)\n",
            " |-- is_being_worked: string (nullable = true)\n",
            " |-- job_title: string (nullable = true)\n",
            " |-- company: string (nullable = true)\n",
            " |-- job_location: string (nullable = true)\n",
            " |-- first_seen: string (nullable = true)\n",
            " |-- search_city: string (nullable = true)\n",
            " |-- search_country: string (nullable = true)\n",
            " |-- search_position: string (nullable = true)\n",
            " |-- job_level: string (nullable = true)\n",
            " |-- job_type: string (nullable = true)\n",
            " |-- job_skills: string (nullable = true)\n",
            "\n"
          ]
        }
      ]
    },
    {
      "cell_type": "code",
      "source": [
        "df.createOrReplaceTempView(\"df\")"
      ],
      "metadata": {
        "id": "f9MJ-D5WffW0"
      },
      "execution_count": 40,
      "outputs": []
    },
    {
      "cell_type": "code",
      "source": [
        "spark.sql(\"select job_title, company from df order by company desc \").show()"
      ],
      "metadata": {
        "colab": {
          "base_uri": "https://localhost:8080/"
        },
        "id": "b5saGLJ2fh78",
        "outputId": "a2ec7431-374e-4a34-cb28-a724ab26165d"
      },
      "execution_count": 51,
      "outputs": [
        {
          "output_type": "stream",
          "name": "stdout",
          "text": [
            "+--------------------+--------------------------+\n",
            "|           job_title|                   company|\n",
            "+--------------------+--------------------------+\n",
            "|        Camp Manager|           🚀 Creator Camp|\n",
            "|Customer Service ...|      👠 Cinderellas Cl...|\n",
            "|Customer Service ...|      👔 Shaffer Dry Cl...|\n",
            "|Maintenance Super...|      🌟Daniel-Scott Re...|\n",
            "|          IT Manager|      🌟Daniel-Scott Re...|\n",
            "|Assistant Practit...|      𝗦𝘁𝗼𝗰𝗸𝗽𝗼𝗿?...|\n",
            "|Speciality Doctor...|      𝗦𝘁𝗼𝗰𝗸𝗽𝗼𝗿?...|\n",
            "|Consultant Physic...|      𝗦𝘁𝗼𝗰𝗸𝗽𝗼𝗿?...|\n",
            "|   Contracts Manager|      𝗦𝘁𝗼𝗰𝗸𝗽𝗼𝗿?...|\n",
            "|Consultant Urolog...|      𝗦𝘁𝗼𝗰𝗸𝗽𝗼𝗿?...|\n",
            "|Building Maintena...|      𝗦𝘁𝗼𝗰𝗸𝗽𝗼𝗿?...|\n",
            "|         Ward Sister|      𝗦𝘁𝗼𝗰𝗸𝗽𝗼𝗿?...|\n",
            "|Band 6 Team Leade...|      𝗦𝘁𝗼𝗰𝗸𝗽𝗼𝗿?...|\n",
            "|Occupational Heal...|      𝗦𝘁𝗼𝗰𝗸𝗽𝗼𝗿?...|\n",
            "|Specialty Dr Opht...|      𝗦𝘁𝗼𝗰𝗸𝗽𝗼𝗿?...|\n",
            "|Registered Staff ...|      𝗦𝘁𝗼𝗰𝗸𝗽𝗼𝗿?...|\n",
            "|  Department Manager|      𝗦𝘁𝗼𝗰𝗸𝗽𝗼𝗿?...|\n",
            "|Registered Staff ...|      𝗦𝘁𝗼𝗰𝗸𝗽𝗼𝗿?...|\n",
            "|Sales & Market De...|한화첨단소재 / Hanwha A...|\n",
            "|Compensation Bene...|한화첨단소재 / Hanwha A...|\n",
            "+--------------------+--------------------------+\n",
            "only showing top 20 rows\n",
            "\n"
          ]
        }
      ]
    },
    {
      "cell_type": "code",
      "source": [
        "# jobs with high demand\n",
        "a_df= spark.sql(\"\"\"\n",
        "          select job_title,\n",
        "          count(*) as Frecuency\n",
        "          from df\n",
        "          group by job_title\n",
        "          order by Frecuency desc\n",
        "          \"\"\")\n",
        "a_df.show()"
      ],
      "metadata": {
        "colab": {
          "base_uri": "https://localhost:8080/"
        },
        "id": "l9AaNmQBiKFh",
        "outputId": "d317ff81-7821-4d6d-ba59-5303d9c19b45"
      },
      "execution_count": 94,
      "outputs": [
        {
          "output_type": "stream",
          "name": "stdout",
          "text": [
            "+--------------------+---------+\n",
            "|           job_title|Frecuency|\n",
            "+--------------------+---------+\n",
            "|LEAD SALES ASSOCI...|     7325|\n",
            "|       Shift Manager|     5818|\n",
            "|First Year Tax Pr...|     5356|\n",
            "|   Assistant Manager|     5346|\n",
            "|Customer Service ...|     5203|\n",
            "|LEAD SALES ASSOCI...|     4924|\n",
            "|       Store Manager|     4791|\n",
            "|CUSTOMER SERVICE ...|     4218|\n",
            "|    Registered Nurse|     4190|\n",
            "|Hourly Supervisor...|     2955|\n",
            "|Travel Allied Hea...|     2933|\n",
            "|                Host|     2871|\n",
            "|   Account Executive|     2631|\n",
            "|   Senior Accountant|     2548|\n",
            "|  Restaurant Manager|     2335|\n",
            "|Hourly Supervisor...|     2230|\n",
            "|        Veterinarian|     2200|\n",
            "|OPERATIONS ASSIST...|     2066|\n",
            "|Assistant General...|     2054|\n",
            "| Executive Assistant|     2054|\n",
            "+--------------------+---------+\n",
            "only showing top 20 rows\n",
            "\n"
          ]
        }
      ]
    },
    {
      "cell_type": "code",
      "source": [
        "df.plot.scatter(x='job_title', y='Frecuency')\n"
      ],
      "metadata": {
        "colab": {
          "base_uri": "https://localhost:8080/",
          "height": 263
        },
        "id": "SYq7hfAjVjD5",
        "outputId": "c3950593-e886-40fb-fa17-9814eb4d39ae"
      },
      "execution_count": 107,
      "outputs": [
        {
          "output_type": "error",
          "ename": "AttributeError",
          "evalue": "'DataFrame' object has no attribute 'plot'",
          "traceback": [
            "\u001b[0;31m---------------------------------------------------------------------------\u001b[0m",
            "\u001b[0;31mAttributeError\u001b[0m                            Traceback (most recent call last)",
            "\u001b[0;32m<ipython-input-107-544f63067955>\u001b[0m in \u001b[0;36m<cell line: 0>\u001b[0;34m()\u001b[0m\n\u001b[0;32m----> 1\u001b[0;31m \u001b[0mdf\u001b[0m\u001b[0;34m.\u001b[0m\u001b[0mplot\u001b[0m\u001b[0;34m.\u001b[0m\u001b[0mscatter\u001b[0m\u001b[0;34m(\u001b[0m\u001b[0mx\u001b[0m\u001b[0;34m=\u001b[0m\u001b[0;34m'job_title'\u001b[0m\u001b[0;34m,\u001b[0m \u001b[0my\u001b[0m\u001b[0;34m=\u001b[0m\u001b[0;34m'Frecuency'\u001b[0m\u001b[0;34m)\u001b[0m\u001b[0;34m\u001b[0m\u001b[0;34m\u001b[0m\u001b[0m\n\u001b[0m",
            "\u001b[0;32m/usr/local/lib/python3.11/dist-packages/pyspark/sql/dataframe.py\u001b[0m in \u001b[0;36m__getattr__\u001b[0;34m(self, name)\u001b[0m\n\u001b[1;32m   3127\u001b[0m         \"\"\"\n\u001b[1;32m   3128\u001b[0m         \u001b[0;32mif\u001b[0m \u001b[0mname\u001b[0m \u001b[0;32mnot\u001b[0m \u001b[0;32min\u001b[0m \u001b[0mself\u001b[0m\u001b[0;34m.\u001b[0m\u001b[0mcolumns\u001b[0m\u001b[0;34m:\u001b[0m\u001b[0;34m\u001b[0m\u001b[0;34m\u001b[0m\u001b[0m\n\u001b[0;32m-> 3129\u001b[0;31m             raise AttributeError(\n\u001b[0m\u001b[1;32m   3130\u001b[0m                 \u001b[0;34m\"'%s' object has no attribute '%s'\"\u001b[0m \u001b[0;34m%\u001b[0m \u001b[0;34m(\u001b[0m\u001b[0mself\u001b[0m\u001b[0;34m.\u001b[0m\u001b[0m__class__\u001b[0m\u001b[0;34m.\u001b[0m\u001b[0m__name__\u001b[0m\u001b[0;34m,\u001b[0m \u001b[0mname\u001b[0m\u001b[0;34m)\u001b[0m\u001b[0;34m\u001b[0m\u001b[0;34m\u001b[0m\u001b[0m\n\u001b[1;32m   3131\u001b[0m             )\n",
            "\u001b[0;31mAttributeError\u001b[0m: 'DataFrame' object has no attribute 'plot'"
          ]
        }
      ]
    },
    {
      "cell_type": "code",
      "source": [
        "spark.sql(\"\"\"\n",
        "          select company,\n",
        "          count(*) as Frecuency\n",
        "          from df\n",
        "          group by company\n",
        "          order by Frecuency desc\n",
        "          \"\"\").show()"
      ],
      "metadata": {
        "colab": {
          "base_uri": "https://localhost:8080/"
        },
        "id": "a1niYYR_lAIM",
        "outputId": "5a541c54-5a99-425a-9ef4-628c3cdcd572"
      },
      "execution_count": 57,
      "outputs": [
        {
          "output_type": "stream",
          "name": "stdout",
          "text": [
            "+--------------------+---------+\n",
            "|             company|Frecuency|\n",
            "+--------------------+---------+\n",
            "|     Health eCareers|    41597|\n",
            "|   Jobs for Humanity|    27680|\n",
            "|   TravelNurseSource|    16142|\n",
            "|      Dollar General|    14815|\n",
            "|        PracticeLink|     9737|\n",
            "|      Energy Jobline|     9364|\n",
            "|Gotham Enterprise...|     8935|\n",
            "|               Jobot|     8713|\n",
            "|       ClearanceJobs|     8599|\n",
            "|          McDonald's|     8125|\n",
            "|      VolunteerMatch|     6833|\n",
            "|             Walmart|     6629|\n",
            "|             DocCafe|     6106|\n",
            "|           H&R Block|     5697|\n",
            "|            Circle K|     5572|\n",
            "|        ClickJobs.io|     5570|\n",
            "|         CyberCoders|     5401|\n",
            "|        Michael Page|     4737|\n",
            "|U.S. Department o...|     4564|\n",
            "| BCG Attorney Search|     4558|\n",
            "+--------------------+---------+\n",
            "only showing top 20 rows\n",
            "\n"
          ]
        }
      ]
    },
    {
      "cell_type": "code",
      "source": [
        "spark.sql(\"\"\"\n",
        "          select job_level,\n",
        "          count(*) as Frecuency\n",
        "          from df\n",
        "          group by job_level\n",
        "          order by Frecuency desc\n",
        "          \"\"\").show()"
      ],
      "metadata": {
        "colab": {
          "base_uri": "https://localhost:8080/"
        },
        "id": "yYsD3GfBlx9Z",
        "outputId": "11aaf7bc-8781-41de-f4f6-9ab8ec1d7b40"
      },
      "execution_count": 62,
      "outputs": [
        {
          "output_type": "stream",
          "name": "stdout",
          "text": [
            "+--------------------+---------+\n",
            "|           job_level|Frecuency|\n",
            "+--------------------+---------+\n",
            "|          Mid senior|  1204393|\n",
            "|           Associate|   143997|\n",
            "|                NULL|       68|\n",
            "|Administrative As...|       10|\n",
            "|           Assembler|        1|\n",
            "|              Onsite|        1|\n",
            "|   Medical Physicist|        1|\n",
            "|       United States|        1|\n",
            "|Chief Computer Pr...|        1|\n",
            "|           Architect|        1|\n",
            "|     Nurse Assistant|        1|\n",
            "|Nurse Infection C...|        1|\n",
            "|           Inspector|        1|\n",
            "|Documentation Sup...|        1|\n",
            "|              Lawyer|        1|\n",
            "|      Budget Analyst|        1|\n",
            "|        Order Runner|        1|\n",
            "|Job Development S...|        1|\n",
            "|  Investment Analyst|        1|\n",
            "|      Microbiologist|        1|\n",
            "+--------------------+---------+\n",
            "only showing top 20 rows\n",
            "\n"
          ]
        }
      ]
    },
    {
      "cell_type": "code",
      "source": [
        "spark.sql(\"\"\"\n",
        "          select job_location,\n",
        "          count(*) as Frecuency\n",
        "          from df\n",
        "          group by job_location\n",
        "          order by Frecuency desc\n",
        "          \"\"\").show()"
      ],
      "metadata": {
        "colab": {
          "base_uri": "https://localhost:8080/"
        },
        "id": "zpT23iJwntGz",
        "outputId": "b8cf9dc5-36ff-4f6a-fe8b-a324e7467c6e"
      },
      "execution_count": 63,
      "outputs": [
        {
          "output_type": "stream",
          "name": "stdout",
          "text": [
            "+--------------------+---------+\n",
            "|        job_location|Frecuency|\n",
            "+--------------------+---------+\n",
            "|        New York, NY|    13435|\n",
            "|London, England, ...|    11756|\n",
            "|         Houston, TX|    10999|\n",
            "|         Chicago, IL|    10790|\n",
            "|     Los Angeles, CA|    10262|\n",
            "|         Atlanta, GA|     9208|\n",
            "|          Boston, MA|     8403|\n",
            "|          Dallas, TX|     8005|\n",
            "|          Austin, TX|     7678|\n",
            "|      Washington, DC|     7322|\n",
            "|         Phoenix, AZ|     7058|\n",
            "|       San Diego, CA|     6883|\n",
            "|       Charlotte, NC|     6774|\n",
            "|    Philadelphia, PA|     6685|\n",
            "|         Seattle, WA|     6584|\n",
            "|     San Antonio, TX|     6419|\n",
            "|   San Francisco, CA|     6014|\n",
            "|           Tampa, FL|     5896|\n",
            "|        Columbus, OH|     5798|\n",
            "|       Las Vegas, NV|     5691|\n",
            "+--------------------+---------+\n",
            "only showing top 20 rows\n",
            "\n"
          ]
        }
      ]
    },
    {
      "cell_type": "code",
      "source": [
        "spark.sql(\"\"\"\n",
        "          select search_country,\n",
        "          count(*) as Frecuency\n",
        "          from df\n",
        "          group by search_country\n",
        "          order by Frecuency desc\n",
        "          \"\"\").show()\n",
        "#The most important countries are  United States|United Kingdom| Canada|Australia"
      ],
      "metadata": {
        "colab": {
          "base_uri": "https://localhost:8080/"
        },
        "id": "vboqtGqRvmN1",
        "outputId": "4d488a61-323a-45e6-edae-40c55d64f8ba"
      },
      "execution_count": 68,
      "outputs": [
        {
          "output_type": "stream",
          "name": "stdout",
          "text": [
            "+------------------+---------+\n",
            "|    search_country|Frecuency|\n",
            "+------------------+---------+\n",
            "|     United States|  1149310|\n",
            "|    United Kingdom|   113391|\n",
            "|            Canada|    55970|\n",
            "|         Australia|    29719|\n",
            "|              NULL|       68|\n",
            "|             Akron|        7|\n",
            "|          Columbus|        2|\n",
            "|      Fayetteville|        2|\n",
            "| Fort Walton Beach|        1|\n",
            "|           Beverly|        1|\n",
            "|         Oceanside|        1|\n",
            "|          Arkansas|        1|\n",
            "|        Alexandria|        1|\n",
            "|         Nashville|        1|\n",
            "|        2024-01-16|        1|\n",
            "|Clinical Therapist|        1|\n",
            "|            Layton|        1|\n",
            "|         Tarrytown|        1|\n",
            "|         Hollywood|        1|\n",
            "|     North Chicago|        1|\n",
            "+------------------+---------+\n",
            "only showing top 20 rows\n",
            "\n"
          ]
        }
      ]
    },
    {
      "cell_type": "code",
      "source": [
        "spark.sql(\"\"\"\n",
        "          select search_country,\n",
        "          company,\n",
        "          job_level,\n",
        "          search_position\n",
        "          from df\n",
        "          group by search_country,company, job_level, search_position\n",
        "          order by search_country desc\n",
        "          \"\"\").show()"
      ],
      "metadata": {
        "colab": {
          "base_uri": "https://localhost:8080/"
        },
        "id": "Un_LBWLIpTfb",
        "outputId": "6712f5c2-4732-4f3e-f202-d6fdd1ef777d"
      },
      "execution_count": 67,
      "outputs": [
        {
          "output_type": "stream",
          "name": "stdout",
          "text": [
            "+--------------+--------------------+----------+--------------------+\n",
            "|search_country|             company| job_level|     search_position|\n",
            "+--------------+--------------------+----------+--------------------+\n",
            "| United States|                 LHH| Associate|       Payroll Clerk|\n",
            "| United States|AGI - Ag Growth I...|Mid senior|    Credit Counselor|\n",
            "| United States|      Dollar General|Mid senior|Consultant Education|\n",
            "| United States|      Baker Tilly US| Associate|               Baker|\n",
            "| United States|        Aston Carter|Mid senior|Supervisor Line D...|\n",
            "| United States|U.S. Department o...|Mid senior|Counselor Marriag...|\n",
            "| United States|Challenge Manufac...|Mid senior|         Leader Tier|\n",
            "| United States|           GLC Group|Mid senior|Laboratory Superv...|\n",
            "| United States| Steward Health Care|Mid senior|Laboratory Superv...|\n",
            "| United States|               Jobot|Mid senior|Superintendent Se...|\n",
            "| United States|        EY-Parthenon|Mid senior|Director Translation|\n",
            "| United States|Bob's Discount Fu...|Mid senior|Production Superv...|\n",
            "| United States|      Dollar General|Mid senior|Financial-Aids Of...|\n",
            "| United States|    Tech Electronics|Mid senior|Technical Coordin...|\n",
            "| United States|Amazon Web Servic...|Mid senior|        Art Director|\n",
            "| United States|Panda Restaurant ...|Mid senior|       Express Clerk|\n",
            "| United States|        ClickJobs.io|Mid senior|Director Of Relig...|\n",
            "| United States|National Veterina...|Mid senior|Veterinarian Labo...|\n",
            "| United States|The Ohio State Un...|Mid senior|Financial-Aids Of...|\n",
            "| United States|3 Key Consulting,...|Mid senior|  Manager Employment|\n",
            "+--------------+--------------------+----------+--------------------+\n",
            "only showing top 20 rows\n",
            "\n"
          ]
        }
      ]
    },
    {
      "cell_type": "code",
      "source": [
        "#The companies and the job level en United States, usually they are looking for Med Senior level\n",
        "spark.sql(\"\"\"\n",
        "          select company as Company_in_US,\n",
        "          job_level,\n",
        "          count(search_position) as Frecuency\n",
        "          from df\n",
        "          where search_country = 'United States'\n",
        "          group by search_country,company, job_level\n",
        "          order by Frecuency desc\n",
        "          \"\"\").show()"
      ],
      "metadata": {
        "colab": {
          "base_uri": "https://localhost:8080/"
        },
        "id": "iqrUBJJ90UcE",
        "outputId": "c2a4e02c-4214-4718-f33a-2aa1154f5ed9"
      },
      "execution_count": 76,
      "outputs": [
        {
          "output_type": "stream",
          "name": "stdout",
          "text": [
            "+--------------------+----------+---------+\n",
            "|       Company_in_US| job_level|Frecuency|\n",
            "+--------------------+----------+---------+\n",
            "|     Health eCareers|Mid senior|    41451|\n",
            "|   Jobs for Humanity|Mid senior|    27135|\n",
            "|   TravelNurseSource|Mid senior|    16018|\n",
            "|      Dollar General|Mid senior|    14756|\n",
            "|        PracticeLink|Mid senior|     9714|\n",
            "|Gotham Enterprise...|Mid senior|     8877|\n",
            "|               Jobot|Mid senior|     8687|\n",
            "|       ClearanceJobs|Mid senior|     8597|\n",
            "|          McDonald's|Mid senior|     8074|\n",
            "|      VolunteerMatch| Associate|     6823|\n",
            "|             Walmart|Mid senior|     6167|\n",
            "|             DocCafe|Mid senior|     6098|\n",
            "|           H&R Block|Mid senior|     5690|\n",
            "|         CyberCoders|Mid senior|     5382|\n",
            "|            Circle K|Mid senior|     5377|\n",
            "|      Energy Jobline|Mid senior|     4921|\n",
            "|U.S. Department o...|Mid senior|     4553|\n",
            "| BCG Attorney Search|Mid senior|     4535|\n",
            "|       Family Dollar|Mid senior|     4333|\n",
            "|              Target|Mid senior|     4143|\n",
            "+--------------------+----------+---------+\n",
            "only showing top 20 rows\n",
            "\n"
          ]
        }
      ]
    },
    {
      "cell_type": "code",
      "source": [
        "#The companies and the job level en United kingdom, usually they are looking for Med Senior and Associate\n",
        "spark.sql(\"\"\"\n",
        "          select company as Company_in_UK,\n",
        "          job_level,\n",
        "          count(search_position) as Frecuency\n",
        "          from df\n",
        "          where search_country = 'United Kingdom'\n",
        "          group by search_country,company, job_level\n",
        "          order by Frecuency desc\n",
        "          \"\"\").show()"
      ],
      "metadata": {
        "colab": {
          "base_uri": "https://localhost:8080/"
        },
        "id": "-d6s8C25xjsY",
        "outputId": "2efa787c-ac4c-4b21-8b94-ef09006dab7b"
      },
      "execution_count": 74,
      "outputs": [
        {
          "output_type": "stream",
          "name": "stdout",
          "text": [
            "+--------------------+----------+---------+\n",
            "|       Company_in_UK| job_level|Frecuency|\n",
            "+--------------------+----------+---------+\n",
            "|      Energy Jobline|Mid senior|     3924|\n",
            "| Sanctuary Personnel| Associate|     1408|\n",
            "|        Michael Page|Mid senior|     1403|\n",
            "|Public Practice R...|Mid senior|     1248|\n",
            "|Somerset NHS Foun...|Mid senior|     1170|\n",
            "|IRIS | Networx | ...|Mid senior|      896|\n",
            "|Your World Recrui...|Mid senior|      829|\n",
            "|Recruitment Panda...|Mid senior|      783|\n",
            "|           TipTopJob|Mid senior|      762|\n",
            "|     Prospect Health|Mid senior|      743|\n",
            "|          ecocareers|Mid senior|      702|\n",
            "|Jupiter Recruitme...|Mid senior|      700|\n",
            "|                Hays|Mid senior|      693|\n",
            "|      Page Personnel|Mid senior|      659|\n",
            "|         BMJ Careers|Mid senior|      556|\n",
            "|   Turner & Townsend|Mid senior|      552|\n",
            "|        ClickJobs.io|Mid senior|      512|\n",
            "|       Academics Ltd|Mid senior|      466|\n",
            "|       Guardian Jobs|Mid senior|      458|\n",
            "|Bennett & Game Re...|Mid senior|      438|\n",
            "+--------------------+----------+---------+\n",
            "only showing top 20 rows\n",
            "\n"
          ]
        }
      ]
    },
    {
      "cell_type": "code",
      "source": [
        "#The companies and the job level in Canada, usually they are looking for Med Senior and Associate\n",
        "#the most relevant comanies are CareerBeacon, ClickJobs and Canadian Armed Force\n",
        "spark.sql(\"\"\"\n",
        "          select company as Company_in_Canada,\n",
        "          job_level,\n",
        "          count(search_position) as Frecuency\n",
        "          from df\n",
        "          where search_country = 'Canada'\n",
        "          group by search_country,company, job_level\n",
        "          order by Frecuency desc\n",
        "          \"\"\").show()"
      ],
      "metadata": {
        "colab": {
          "base_uri": "https://localhost:8080/"
        },
        "id": "bkPz-GXx0-Kf",
        "outputId": "f21a1141-3686-4ef3-84bd-afb1c7116119"
      },
      "execution_count": 78,
      "outputs": [
        {
          "output_type": "stream",
          "name": "stdout",
          "text": [
            "+--------------------+----------+---------+\n",
            "|   Company_in_Canada| job_level|Frecuency|\n",
            "+--------------------+----------+---------+\n",
            "|        CareerBeacon|Mid senior|     1798|\n",
            "|        ClickJobs.io|Mid senior|     1707|\n",
            "|Canadian Armed Fo...|Mid senior|      819|\n",
            "|             Stantec|Mid senior|      807|\n",
            "|Vancouver Coastal...|Mid senior|      681|\n",
            "|      Walmart Canada|Mid senior|      589|\n",
            "|     Randstad Canada|Mid senior|      448|\n",
            "|GFL Environmental...| Associate|      421|\n",
            "|CISSS de la Monté...|Mid senior|      400|\n",
            "|      Energy Jobline|Mid senior|      394|\n",
            "|Fraser Health Aut...|Mid senior|      392|\n",
            "|   Jobs for Humanity|Mid senior|      392|\n",
            "|Interior Health A...|Mid senior|      376|\n",
            "|Savers | Value Vi...|Mid senior|      367|\n",
            "|Loblaw Companies ...|Mid senior|      338|\n",
            "|Alberta Health Se...|Mid senior|      337|\n",
            "|BayCare Health Sy...| Associate|      285|\n",
            "|                 MNP|Mid senior|      269|\n",
            "|Shared Health-Soi...|Mid senior|      239|\n",
            "|Little Burgundy S...|Mid senior|      228|\n",
            "+--------------------+----------+---------+\n",
            "only showing top 20 rows\n",
            "\n"
          ]
        }
      ]
    },
    {
      "cell_type": "code",
      "source": [
        "#The most commun job skills for Mid Senior\n",
        "spark.sql(\"\"\"\n",
        "          select job_skills,\n",
        "          count(job_skills) as Frecuency\n",
        "          from df\n",
        "          where job_level = 'Mid senior'\n",
        "          group by job_skills\n",
        "          order by job_skills asc\n",
        "          \"\"\").show(50)"
      ],
      "metadata": {
        "colab": {
          "base_uri": "https://localhost:8080/"
        },
        "id": "KCa9m3fdxg0h",
        "outputId": "7c53e6b5-5951-4c39-b656-80191e33001e"
      },
      "execution_count": 83,
      "outputs": [
        {
          "output_type": "stream",
          "name": "stdout",
          "text": [
            "+--------------------+---------+\n",
            "|          job_skills|Frecuency|\n",
            "+--------------------+---------+\n",
            "|                NULL|        0|\n",
            "|\".NET, C#, Web AP...|        1|\n",
            "|\"40 Act accountin...|        1|\n",
            "|\"ACD call managem...|        1|\n",
            "|\"ACLS, BLS, Nursi...|        1|\n",
            "|\"AF 65series inst...|        1|\n",
            "|\"AML/KYC verifica...|        1|\n",
            "|\"API650, API651, ...|        1|\n",
            "|\"API650, API651, ...|        1|\n",
            "|\"APRN Licensure, ...|        1|\n",
            "|\"ASME \"\"S\"\" and \"...|        1|\n",
            "|\"Ability to commu...|        1|\n",
            "|\"Abrasive blast, ...|        1|\n",
            "|\"Access control s...|        1|\n",
            "|\"Accessibility, S...|        1|\n",
            "|\"Account Manageme...|        1|\n",
            "|\"Account Manageme...|        1|\n",
            "|\"Accounting conce...|        1|\n",
            "|\"Accounting, Audi...|        1|\n",
            "|\"Accounting, Audi...|        1|\n",
            "|\"Accounting, Audi...|        1|\n",
            "|\"Accounting, Audi...|        1|\n",
            "|\"Accounting, Audi...|        1|\n",
            "|\"Accounting, Busi...|        1|\n",
            "|\"Accounting, Econ...|        1|\n",
            "|\"Accounting, Fina...|        1|\n",
            "|\"Accounting, Fina...|        1|\n",
            "|\"Accounting, Fina...|        1|\n",
            "|\"Accounting, Fina...|        1|\n",
            "|\"Accounting, Fina...|        1|\n",
            "|\"Accounting, Fina...|        1|\n",
            "|\"Accounting, Fixe...|        1|\n",
            "|\"Accounting, Payr...|        1|\n",
            "|\"Accounting, Repo...|        1|\n",
            "|\"Accounting, US G...|        1|\n",
            "|\"Accounts Receiva...|        1|\n",
            "|\"Acquisition Spec...|        1|\n",
            "|\"Adjunct Professo...|        1|\n",
            "|\"Administration, ...|        1|\n",
            "|\"Administrative s...|        1|\n",
            "|\"Adobe Suite, Soc...|        1|\n",
            "|\"Advanced Practic...|        1|\n",
            "|\"Advanced care pr...|        1|\n",
            "|\"Aerial Foremen, ...|        1|\n",
            "|\"Aeronautics, Air...|        1|\n",
            "|\"Aeronautics, Mai...|        1|\n",
            "|\"Aerospace Engine...|        1|\n",
            "|\"Aerospace Manufa...|        1|\n",
            "|\"Agile, Data mode...|        1|\n",
            "|\"Aircraft Line Ma...|        1|\n",
            "+--------------------+---------+\n",
            "only showing top 50 rows\n",
            "\n"
          ]
        }
      ]
    },
    {
      "cell_type": "code",
      "source": [],
      "metadata": {
        "id": "qeEXSgjx13Sy"
      },
      "execution_count": null,
      "outputs": []
    }
  ]
}